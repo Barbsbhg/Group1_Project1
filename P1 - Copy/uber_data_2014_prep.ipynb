{
 "cells": [
  {
   "cell_type": "markdown",
   "id": "00cab598",
   "metadata": {},
   "source": [
    "# Data Preparation: UberDrivers 2014"
   ]
  },
  {
   "cell_type": "code",
   "execution_count": 23,
   "id": "54e57e27",
   "metadata": {},
   "outputs": [],
   "source": [
    "# Dependencies and Setup\n",
    "import pandas as pd\n",
    "from pathlib import Path\n",
    "import hvplot.pandas\n",
    "import warnings\n",
    "warnings.filterwarnings(\"ignore\")"
   ]
  },
  {
   "cell_type": "code",
   "execution_count": 26,
   "id": "1c06a93d",
   "metadata": {},
   "outputs": [
    {
     "data": {
      "text/html": [
       "<div>\n",
       "<style scoped>\n",
       "    .dataframe tbody tr th:only-of-type {\n",
       "        vertical-align: middle;\n",
       "    }\n",
       "\n",
       "    .dataframe tbody tr th {\n",
       "        vertical-align: top;\n",
       "    }\n",
       "\n",
       "    .dataframe thead th {\n",
       "        text-align: right;\n",
       "    }\n",
       "</style>\n",
       "<table border=\"1\" class=\"dataframe\">\n",
       "  <thead>\n",
       "    <tr style=\"text-align: right;\">\n",
       "      <th></th>\n",
       "      <th>Date/Time</th>\n",
       "      <th>Lat</th>\n",
       "      <th>Lon</th>\n",
       "      <th>Base</th>\n",
       "    </tr>\n",
       "  </thead>\n",
       "  <tbody>\n",
       "    <tr>\n",
       "      <th>0</th>\n",
       "      <td>4/1/2014 0:11:00</td>\n",
       "      <td>40.7690</td>\n",
       "      <td>-73.9549</td>\n",
       "      <td>B02512</td>\n",
       "    </tr>\n",
       "    <tr>\n",
       "      <th>1</th>\n",
       "      <td>4/1/2014 0:17:00</td>\n",
       "      <td>40.7267</td>\n",
       "      <td>-74.0345</td>\n",
       "      <td>B02512</td>\n",
       "    </tr>\n",
       "    <tr>\n",
       "      <th>2</th>\n",
       "      <td>4/1/2014 0:21:00</td>\n",
       "      <td>40.7316</td>\n",
       "      <td>-73.9873</td>\n",
       "      <td>B02512</td>\n",
       "    </tr>\n",
       "    <tr>\n",
       "      <th>3</th>\n",
       "      <td>4/1/2014 0:28:00</td>\n",
       "      <td>40.7588</td>\n",
       "      <td>-73.9776</td>\n",
       "      <td>B02512</td>\n",
       "    </tr>\n",
       "    <tr>\n",
       "      <th>4</th>\n",
       "      <td>4/1/2014 0:33:00</td>\n",
       "      <td>40.7594</td>\n",
       "      <td>-73.9722</td>\n",
       "      <td>B02512</td>\n",
       "    </tr>\n",
       "    <tr>\n",
       "      <th>...</th>\n",
       "      <td>...</td>\n",
       "      <td>...</td>\n",
       "      <td>...</td>\n",
       "      <td>...</td>\n",
       "    </tr>\n",
       "    <tr>\n",
       "      <th>4534322</th>\n",
       "      <td>9/30/2014 22:57:00</td>\n",
       "      <td>40.7668</td>\n",
       "      <td>-73.9845</td>\n",
       "      <td>B02764</td>\n",
       "    </tr>\n",
       "    <tr>\n",
       "      <th>4534323</th>\n",
       "      <td>9/30/2014 22:57:00</td>\n",
       "      <td>40.6911</td>\n",
       "      <td>-74.1773</td>\n",
       "      <td>B02764</td>\n",
       "    </tr>\n",
       "    <tr>\n",
       "      <th>4534324</th>\n",
       "      <td>9/30/2014 22:58:00</td>\n",
       "      <td>40.8519</td>\n",
       "      <td>-73.9319</td>\n",
       "      <td>B02764</td>\n",
       "    </tr>\n",
       "    <tr>\n",
       "      <th>4534325</th>\n",
       "      <td>9/30/2014 22:58:00</td>\n",
       "      <td>40.7081</td>\n",
       "      <td>-74.0066</td>\n",
       "      <td>B02764</td>\n",
       "    </tr>\n",
       "    <tr>\n",
       "      <th>4534326</th>\n",
       "      <td>9/30/2014 22:58:00</td>\n",
       "      <td>40.7140</td>\n",
       "      <td>-73.9496</td>\n",
       "      <td>B02764</td>\n",
       "    </tr>\n",
       "  </tbody>\n",
       "</table>\n",
       "<p>4534327 rows × 4 columns</p>\n",
       "</div>"
      ],
      "text/plain": [
       "                  Date/Time      Lat      Lon    Base\n",
       "0          4/1/2014 0:11:00  40.7690 -73.9549  B02512\n",
       "1          4/1/2014 0:17:00  40.7267 -74.0345  B02512\n",
       "2          4/1/2014 0:21:00  40.7316 -73.9873  B02512\n",
       "3          4/1/2014 0:28:00  40.7588 -73.9776  B02512\n",
       "4          4/1/2014 0:33:00  40.7594 -73.9722  B02512\n",
       "...                     ...      ...      ...     ...\n",
       "4534322  9/30/2014 22:57:00  40.7668 -73.9845  B02764\n",
       "4534323  9/30/2014 22:57:00  40.6911 -74.1773  B02764\n",
       "4534324  9/30/2014 22:58:00  40.8519 -73.9319  B02764\n",
       "4534325  9/30/2014 22:58:00  40.7081 -74.0066  B02764\n",
       "4534326  9/30/2014 22:58:00  40.7140 -73.9496  B02764\n",
       "\n",
       "[4534327 rows x 4 columns]"
      ]
     },
     "execution_count": 26,
     "metadata": {},
     "output_type": "execute_result"
    }
   ],
   "source": [
    "# Files to Load\n",
    "\n",
    "uber_trip_2014 = [\n",
    "    \"uber_resources/uber_trip_2014/uber-raw-data-apr14.csv\",\n",
    "    \"uber_resources/uber_trip_2014/uber-raw-data-aug14.csv\",\n",
    "    \"uber_resources/uber_trip_2014/uber-raw-data-jul14.csv\",\n",
    "    \"uber_resources/uber_trip_2014/uber-raw-data-jun14.csv\",\n",
    "    \"uber_resources/uber_trip_2014/uber-raw-data-may14.csv\",\n",
    "    \"uber_resources/uber_trip_2014/uber-raw-data-sep14.csv\"\n",
    "]\n",
    "\n",
    "# Initialize an empty list to store DataFrames\n",
    "data_frames = []\n",
    "\n",
    "# Read each CSV file and append its DataFrame to the list\n",
    "for file_path in uber_trip_2014:\n",
    "    df = pd.read_csv(file_path)\n",
    "    data_frames.append(df)\n",
    "\n",
    "# Concatenate all DataFrames in the list into one DataFrame\n",
    "raw_data = pd.concat(data_frames, ignore_index=True)\n",
    "raw_data"
   ]
  },
  {
   "cell_type": "markdown",
   "id": "7a76c744",
   "metadata": {},
   "source": [
    "# Data cleaning"
   ]
  },
  {
   "cell_type": "code",
   "execution_count": 27,
   "id": "74a6ac3c",
   "metadata": {},
   "outputs": [
    {
     "data": {
      "text/html": [
       "<div>\n",
       "<style scoped>\n",
       "    .dataframe tbody tr th:only-of-type {\n",
       "        vertical-align: middle;\n",
       "    }\n",
       "\n",
       "    .dataframe tbody tr th {\n",
       "        vertical-align: top;\n",
       "    }\n",
       "\n",
       "    .dataframe thead th {\n",
       "        text-align: right;\n",
       "    }\n",
       "</style>\n",
       "<table border=\"1\" class=\"dataframe\">\n",
       "  <thead>\n",
       "    <tr style=\"text-align: right;\">\n",
       "      <th></th>\n",
       "      <th>Base</th>\n",
       "      <th>Date</th>\n",
       "      <th>Time</th>\n",
       "    </tr>\n",
       "  </thead>\n",
       "  <tbody>\n",
       "    <tr>\n",
       "      <th>0</th>\n",
       "      <td>B02512</td>\n",
       "      <td>4/1/2014</td>\n",
       "      <td>0:11:00</td>\n",
       "    </tr>\n",
       "    <tr>\n",
       "      <th>1</th>\n",
       "      <td>B02512</td>\n",
       "      <td>4/1/2014</td>\n",
       "      <td>0:17:00</td>\n",
       "    </tr>\n",
       "    <tr>\n",
       "      <th>2</th>\n",
       "      <td>B02512</td>\n",
       "      <td>4/1/2014</td>\n",
       "      <td>0:21:00</td>\n",
       "    </tr>\n",
       "    <tr>\n",
       "      <th>3</th>\n",
       "      <td>B02512</td>\n",
       "      <td>4/1/2014</td>\n",
       "      <td>0:28:00</td>\n",
       "    </tr>\n",
       "    <tr>\n",
       "      <th>4</th>\n",
       "      <td>B02512</td>\n",
       "      <td>4/1/2014</td>\n",
       "      <td>0:33:00</td>\n",
       "    </tr>\n",
       "  </tbody>\n",
       "</table>\n",
       "</div>"
      ],
      "text/plain": [
       "     Base      Date     Time\n",
       "0  B02512  4/1/2014  0:11:00\n",
       "1  B02512  4/1/2014  0:17:00\n",
       "2  B02512  4/1/2014  0:21:00\n",
       "3  B02512  4/1/2014  0:28:00\n",
       "4  B02512  4/1/2014  0:33:00"
      ]
     },
     "execution_count": 27,
     "metadata": {},
     "output_type": "execute_result"
    }
   ],
   "source": [
    "# Data Cleaning\n",
    "# Splitting Date/Time into their own columns\n",
    "raw_data[['Date', 'Time']] = raw_data['Date/Time'].str.split(expand=True)\n",
    "\n",
    "raw_data.drop(columns=['Date/Time'], inplace=True)\n",
    "\n",
    "raw_data[\"Time\"]\n",
    "del raw_data[\"Lat\"]\n",
    "del raw_data[\"Lon\"]\n",
    "\n",
    "raw_data.head()"
   ]
  },
  {
   "cell_type": "code",
   "execution_count": 28,
   "id": "3d19b9b3",
   "metadata": {},
   "outputs": [],
   "source": [
    "# Handling data value types:\n",
    "#print(raw_data.info())\n",
    "\n",
    "#print(\"After data converstion\")\n",
    "\n",
    "data = {'Date': raw_data[\"Date\"]}\n",
    "datetime = pd.DataFrame(data)\n",
    "\n",
    "# Convert date columns to datetime dtype\n",
    "raw_data['Date'] = pd.to_datetime(datetime['Date'])\n",
    "\n",
    "#print(raw_data.info())"
   ]
  },
  {
   "cell_type": "code",
   "execution_count": 29,
   "id": "7a3c3798",
   "metadata": {},
   "outputs": [
    {
     "name": "stdout",
     "output_type": "stream",
     "text": [
      "Base    4534327\n",
      "Date    4534327\n",
      "Time    4534327\n",
      "dtype: int64\n",
      "After removing duplicates:\n",
      "Base    937192\n",
      "Date    937192\n",
      "Time    937192\n",
      "dtype: int64\n"
     ]
    }
   ],
   "source": [
    "# Finding Duplicates \n",
    "print(raw_data.count())\n",
    "\n",
    "print(\"After removing duplicates:\")\n",
    "non_dupe_data = raw_data.drop_duplicates()\n",
    "print(non_dupe_data.count())"
   ]
  },
  {
   "cell_type": "code",
   "execution_count": 30,
   "id": "e1a9a62e",
   "metadata": {},
   "outputs": [
    {
     "name": "stdout",
     "output_type": "stream",
     "text": [
      "Base    937192\n",
      "Date    937192\n",
      "Time    937192\n",
      "dtype: int64\n"
     ]
    }
   ],
   "source": [
    "# Handling Missing Values\n",
    "non_dupe_data = non_dupe_data.dropna()\n",
    "\n",
    "non_na_data = non_dupe_data.dropna(axis=1)\n",
    "\n",
    "print(non_na_data.count())"
   ]
  },
  {
   "cell_type": "code",
   "execution_count": 31,
   "id": "351df67a",
   "metadata": {},
   "outputs": [
    {
     "data": {
      "text/html": [
       "<div>\n",
       "<style scoped>\n",
       "    .dataframe tbody tr th:only-of-type {\n",
       "        vertical-align: middle;\n",
       "    }\n",
       "\n",
       "    .dataframe tbody tr th {\n",
       "        vertical-align: top;\n",
       "    }\n",
       "\n",
       "    .dataframe thead th {\n",
       "        text-align: right;\n",
       "    }\n",
       "</style>\n",
       "<table border=\"1\" class=\"dataframe\">\n",
       "  <thead>\n",
       "    <tr style=\"text-align: right;\">\n",
       "      <th></th>\n",
       "      <th>Base</th>\n",
       "      <th>Date</th>\n",
       "      <th>Time</th>\n",
       "    </tr>\n",
       "  </thead>\n",
       "  <tbody>\n",
       "    <tr>\n",
       "      <th>0</th>\n",
       "      <td>B02512</td>\n",
       "      <td>2014-04-01</td>\n",
       "      <td>0:11:00</td>\n",
       "    </tr>\n",
       "    <tr>\n",
       "      <th>1</th>\n",
       "      <td>B02512</td>\n",
       "      <td>2014-04-01</td>\n",
       "      <td>0:17:00</td>\n",
       "    </tr>\n",
       "    <tr>\n",
       "      <th>2</th>\n",
       "      <td>B02512</td>\n",
       "      <td>2014-04-01</td>\n",
       "      <td>0:21:00</td>\n",
       "    </tr>\n",
       "    <tr>\n",
       "      <th>3</th>\n",
       "      <td>B02512</td>\n",
       "      <td>2014-04-01</td>\n",
       "      <td>0:28:00</td>\n",
       "    </tr>\n",
       "    <tr>\n",
       "      <th>4</th>\n",
       "      <td>B02512</td>\n",
       "      <td>2014-04-01</td>\n",
       "      <td>0:33:00</td>\n",
       "    </tr>\n",
       "  </tbody>\n",
       "</table>\n",
       "</div>"
      ],
      "text/plain": [
       "     Base       Date     Time\n",
       "0  B02512 2014-04-01  0:11:00\n",
       "1  B02512 2014-04-01  0:17:00\n",
       "2  B02512 2014-04-01  0:21:00\n",
       "3  B02512 2014-04-01  0:28:00\n",
       "4  B02512 2014-04-01  0:33:00"
      ]
     },
     "execution_count": 31,
     "metadata": {},
     "output_type": "execute_result"
    }
   ],
   "source": [
    "# Renaming to finalized dataframe\n",
    "uber_data = non_na_data\n",
    "uber_data.head()"
   ]
  },
  {
   "cell_type": "markdown",
   "id": "e888013a",
   "metadata": {},
   "source": [
    "# Trips Data"
   ]
  },
  {
   "cell_type": "code",
   "execution_count": 9,
   "id": "a064a2ea",
   "metadata": {},
   "outputs": [
    {
     "data": {
      "text/plain": [
       "B02617    1417983\n",
       "B02598    1379578\n",
       "B02682    1198901\n",
       "B02764     254931\n",
       "B02512     200353\n",
       "Name: Base, dtype: int64"
      ]
     },
     "execution_count": 9,
     "metadata": {},
     "output_type": "execute_result"
    }
   ],
   "source": [
    "# All data per base\n",
    "per_base_counts = uber_data[\"Base\"].value_counts()\n",
    "per_base_counts"
   ]
  },
  {
   "cell_type": "code",
   "execution_count": 10,
   "id": "4f5368fc",
   "metadata": {},
   "outputs": [
    {
     "data": {
      "text/html": [
       "<div>\n",
       "<style scoped>\n",
       "    .dataframe tbody tr th:only-of-type {\n",
       "        vertical-align: middle;\n",
       "    }\n",
       "\n",
       "    .dataframe tbody tr th {\n",
       "        vertical-align: top;\n",
       "    }\n",
       "\n",
       "    .dataframe thead th {\n",
       "        text-align: right;\n",
       "    }\n",
       "</style>\n",
       "<table border=\"1\" class=\"dataframe\">\n",
       "  <thead>\n",
       "    <tr style=\"text-align: right;\">\n",
       "      <th></th>\n",
       "      <th>Base</th>\n",
       "      <th>Date</th>\n",
       "      <th>Number of trips</th>\n",
       "    </tr>\n",
       "  </thead>\n",
       "  <tbody>\n",
       "    <tr>\n",
       "      <th>0</th>\n",
       "      <td>B02512</td>\n",
       "      <td>2014-04-30</td>\n",
       "      <td>2107</td>\n",
       "    </tr>\n",
       "    <tr>\n",
       "      <th>1</th>\n",
       "      <td>B02512</td>\n",
       "      <td>2014-04-04</td>\n",
       "      <td>1768</td>\n",
       "    </tr>\n",
       "    <tr>\n",
       "      <th>2</th>\n",
       "      <td>B02512</td>\n",
       "      <td>2014-09-05</td>\n",
       "      <td>1752</td>\n",
       "    </tr>\n",
       "    <tr>\n",
       "      <th>3</th>\n",
       "      <td>B02512</td>\n",
       "      <td>2014-05-16</td>\n",
       "      <td>1686</td>\n",
       "    </tr>\n",
       "    <tr>\n",
       "      <th>4</th>\n",
       "      <td>B02512</td>\n",
       "      <td>2014-07-15</td>\n",
       "      <td>1618</td>\n",
       "    </tr>\n",
       "  </tbody>\n",
       "</table>\n",
       "</div>"
      ],
      "text/plain": [
       "     Base       Date  Number of trips\n",
       "0  B02512 2014-04-30             2107\n",
       "1  B02512 2014-04-04             1768\n",
       "2  B02512 2014-09-05             1752\n",
       "3  B02512 2014-05-16             1686\n",
       "4  B02512 2014-07-15             1618"
      ]
     },
     "execution_count": 10,
     "metadata": {},
     "output_type": "execute_result"
    }
   ],
   "source": [
    "# Finding the Number of trips per day by a base\n",
    "rides_per_day = uber_data.groupby(\"Base\")[\"Date\"].value_counts()\n",
    "\n",
    "rides_per_day_df = rides_per_day.reset_index(name=\"Number of trips\")\n",
    "\n",
    "rides_per_day_df.head()"
   ]
  },
  {
   "cell_type": "markdown",
   "id": "76037ebd",
   "metadata": {},
   "source": [
    "# Uber Summary"
   ]
  },
  {
   "cell_type": "code",
   "execution_count": 11,
   "id": "c1c30464",
   "metadata": {},
   "outputs": [
    {
     "data": {
      "text/plain": [
       "array(['B02512', 'B02598', 'B02617', 'B02682', 'B02764'], dtype=object)"
      ]
     },
     "execution_count": 11,
     "metadata": {},
     "output_type": "execute_result"
    }
   ],
   "source": [
    "# All base names\n",
    "bases = uber_data[\"Base\"].unique()\n",
    "bases"
   ]
  },
  {
   "cell_type": "code",
   "execution_count": 12,
   "id": "1724091e",
   "metadata": {},
   "outputs": [
    {
     "data": {
      "text/plain": [
       "5"
      ]
     },
     "execution_count": 12,
     "metadata": {},
     "output_type": "execute_result"
    }
   ],
   "source": [
    "# Total bases\n",
    "base_count = uber_data[\"Base\"].nunique()\n",
    "base_count"
   ]
  },
  {
   "cell_type": "code",
   "execution_count": 13,
   "id": "1b4dfb31",
   "metadata": {},
   "outputs": [
    {
     "data": {
      "text/plain": [
       "Base\n",
       "B02512     200353\n",
       "B02598    1379578\n",
       "B02617    1417983\n",
       "B02682    1198901\n",
       "B02764     254931\n",
       "Name: Number of trips, dtype: int64"
      ]
     },
     "execution_count": 13,
     "metadata": {},
     "output_type": "execute_result"
    }
   ],
   "source": [
    "# total trips \n",
    "num_trips_per_base = rides_per_day_df.groupby(\"Base\")[\"Number of trips\"].sum()\n",
    "num_trips_per_base"
   ]
  },
  {
   "cell_type": "code",
   "execution_count": 14,
   "id": "9bffd158",
   "metadata": {},
   "outputs": [
    {
     "data": {
      "text/plain": [
       "Base\n",
       "B02512     2107\n",
       "B02598    13383\n",
       "B02617    16037\n",
       "B02682    13151\n",
       "B02764     9229\n",
       "Name: Number of trips, dtype: int64"
      ]
     },
     "execution_count": 14,
     "metadata": {},
     "output_type": "execute_result"
    }
   ],
   "source": [
    "# maximum trips\n",
    "max_trips_per_base = rides_per_day_df.groupby(\"Base\")[\"Number of trips\"].max()\n",
    "max_trips_per_base"
   ]
  },
  {
   "cell_type": "code",
   "execution_count": 15,
   "id": "88e6895a",
   "metadata": {},
   "outputs": [
    {
     "data": {
      "text/plain": [
       "Base\n",
       "B02512     391\n",
       "B02598    3509\n",
       "B02617    1934\n",
       "B02682    2867\n",
       "B02764     114\n",
       "Name: Number of trips, dtype: int64"
      ]
     },
     "execution_count": 15,
     "metadata": {},
     "output_type": "execute_result"
    }
   ],
   "source": [
    "# minimum trips\n",
    "min_trips_per_base = rides_per_day_df.groupby(\"Base\")[\"Number of trips\"].min()\n",
    "min_trips_per_base"
   ]
  },
  {
   "cell_type": "code",
   "execution_count": 16,
   "id": "ef823156",
   "metadata": {},
   "outputs": [],
   "source": [
    "# Date Range\n",
    "start_date = rides_per_day_df[\"Date\"].min()\n",
    "end_date = rides_per_day_df[\"Date\"].max()"
   ]
  },
  {
   "cell_type": "code",
   "execution_count": 17,
   "id": "2f88f18b",
   "metadata": {},
   "outputs": [],
   "source": [
    "# Total Days\n",
    "total_days = len(rides_per_day_df[\"Date\"].unique())"
   ]
  },
  {
   "cell_type": "code",
   "execution_count": 18,
   "id": "cf90d5df",
   "metadata": {},
   "outputs": [
    {
     "data": {
      "text/plain": [
       "Base\n",
       "B02512    1094.825137\n",
       "B02598    7538.677596\n",
       "B02617    7748.540984\n",
       "B02682    6551.371585\n",
       "B02764    1393.065574\n",
       "Name: Number of trips, dtype: float64"
      ]
     },
     "execution_count": 18,
     "metadata": {},
     "output_type": "execute_result"
    }
   ],
   "source": [
    "# Average Trips per Day\n",
    "avg_trips_per_day = num_trips_per_base / total_days\n",
    "avg_trips_per_day"
   ]
  },
  {
   "cell_type": "code",
   "execution_count": 19,
   "id": "5c1f0149",
   "metadata": {},
   "outputs": [
    {
     "name": "stdout",
     "output_type": "stream",
     "text": [
      "Most Active Days:\n",
      "Base\n",
      "B02512   2014-04-30\n",
      "B02598   2014-04-30\n",
      "B02617   2014-09-05\n",
      "B02682   2014-04-30\n",
      "B02764   2014-09-27\n",
      "Name: Date, dtype: datetime64[ns]\n",
      "\n",
      "Least Active Days:\n",
      "Base\n",
      "B02512   2014-07-05\n",
      "B02598   2014-07-05\n",
      "B02617   2014-04-20\n",
      "B02682   2014-07-05\n",
      "B02764   2014-07-05\n",
      "Name: Date, dtype: datetime64[ns]\n"
     ]
    }
   ],
   "source": [
    "# Most Active Day\n",
    "most_active_dates_idx = rides_per_day_df.groupby('Base')['Number of trips'].idxmax()\n",
    "most_active_dates = rides_per_day_df.loc[most_active_dates_idx, 'Date']\n",
    "\n",
    "# Set the index to \"Base\" and rename the index\n",
    "most_active_dates.index = most_active_dates_idx.index\n",
    "most_active_dates.index.name = 'Base'\n",
    "\n",
    "# Least Active Day\n",
    "least_active_dates_idx = rides_per_day_df.groupby('Base')['Number of trips'].idxmin()\n",
    "least_active_dates = rides_per_day_df.loc[least_active_dates_idx, 'Date']\n",
    "\n",
    "# Set the index to \"Base\"\n",
    "least_active_dates.index = least_active_dates_idx.index\n",
    "least_active_dates.index.name = 'Base'\n",
    "\n",
    "\n",
    "print(\"Most Active Days:\"),\n",
    "print(most_active_dates)\n",
    "\n",
    "print(\"\\nLeast Active Days:\")\n",
    "print(least_active_dates)"
   ]
  },
  {
   "cell_type": "code",
   "execution_count": 20,
   "id": "a8d1e916",
   "metadata": {},
   "outputs": [
    {
     "data": {
      "text/html": [
       "<div>\n",
       "<style scoped>\n",
       "    .dataframe tbody tr th:only-of-type {\n",
       "        vertical-align: middle;\n",
       "    }\n",
       "\n",
       "    .dataframe tbody tr th {\n",
       "        vertical-align: top;\n",
       "    }\n",
       "\n",
       "    .dataframe thead th {\n",
       "        text-align: right;\n",
       "    }\n",
       "</style>\n",
       "<table border=\"1\" class=\"dataframe\">\n",
       "  <thead>\n",
       "    <tr style=\"text-align: right;\">\n",
       "      <th></th>\n",
       "      <th>Base</th>\n",
       "      <th>Total Trips</th>\n",
       "      <th>Maximum Trips</th>\n",
       "      <th>Minimum Trips</th>\n",
       "      <th>Start Date</th>\n",
       "      <th>End Date</th>\n",
       "      <th>Total Days</th>\n",
       "      <th>Average Trips/Day</th>\n",
       "      <th>Most Active Day</th>\n",
       "      <th>Least Active Day</th>\n",
       "    </tr>\n",
       "    <tr>\n",
       "      <th>Base</th>\n",
       "      <th></th>\n",
       "      <th></th>\n",
       "      <th></th>\n",
       "      <th></th>\n",
       "      <th></th>\n",
       "      <th></th>\n",
       "      <th></th>\n",
       "      <th></th>\n",
       "      <th></th>\n",
       "      <th></th>\n",
       "    </tr>\n",
       "  </thead>\n",
       "  <tbody>\n",
       "    <tr>\n",
       "      <th>B02512</th>\n",
       "      <td>B02512</td>\n",
       "      <td>200353</td>\n",
       "      <td>2107</td>\n",
       "      <td>391</td>\n",
       "      <td>2014-04-01</td>\n",
       "      <td>2014-09-30</td>\n",
       "      <td>183</td>\n",
       "      <td>1094.825137</td>\n",
       "      <td>2014-04-30</td>\n",
       "      <td>2014-07-05</td>\n",
       "    </tr>\n",
       "    <tr>\n",
       "      <th>B02598</th>\n",
       "      <td>B02598</td>\n",
       "      <td>1379578</td>\n",
       "      <td>13383</td>\n",
       "      <td>3509</td>\n",
       "      <td>2014-04-01</td>\n",
       "      <td>2014-09-30</td>\n",
       "      <td>183</td>\n",
       "      <td>7538.677596</td>\n",
       "      <td>2014-04-30</td>\n",
       "      <td>2014-07-05</td>\n",
       "    </tr>\n",
       "    <tr>\n",
       "      <th>B02617</th>\n",
       "      <td>B02617</td>\n",
       "      <td>1417983</td>\n",
       "      <td>16037</td>\n",
       "      <td>1934</td>\n",
       "      <td>2014-04-01</td>\n",
       "      <td>2014-09-30</td>\n",
       "      <td>183</td>\n",
       "      <td>7748.540984</td>\n",
       "      <td>2014-09-05</td>\n",
       "      <td>2014-04-20</td>\n",
       "    </tr>\n",
       "    <tr>\n",
       "      <th>B02682</th>\n",
       "      <td>B02682</td>\n",
       "      <td>1198901</td>\n",
       "      <td>13151</td>\n",
       "      <td>2867</td>\n",
       "      <td>2014-04-01</td>\n",
       "      <td>2014-09-30</td>\n",
       "      <td>183</td>\n",
       "      <td>6551.371585</td>\n",
       "      <td>2014-04-30</td>\n",
       "      <td>2014-07-05</td>\n",
       "    </tr>\n",
       "    <tr>\n",
       "      <th>B02764</th>\n",
       "      <td>B02764</td>\n",
       "      <td>254931</td>\n",
       "      <td>9229</td>\n",
       "      <td>114</td>\n",
       "      <td>2014-04-01</td>\n",
       "      <td>2014-09-30</td>\n",
       "      <td>183</td>\n",
       "      <td>1393.065574</td>\n",
       "      <td>2014-09-27</td>\n",
       "      <td>2014-07-05</td>\n",
       "    </tr>\n",
       "  </tbody>\n",
       "</table>\n",
       "</div>"
      ],
      "text/plain": [
       "          Base  Total Trips  Maximum Trips  Minimum Trips Start Date  \\\n",
       "Base                                                                   \n",
       "B02512  B02512       200353           2107            391 2014-04-01   \n",
       "B02598  B02598      1379578          13383           3509 2014-04-01   \n",
       "B02617  B02617      1417983          16037           1934 2014-04-01   \n",
       "B02682  B02682      1198901          13151           2867 2014-04-01   \n",
       "B02764  B02764       254931           9229            114 2014-04-01   \n",
       "\n",
       "         End Date  Total Days  Average Trips/Day Most Active Day  \\\n",
       "Base                                                               \n",
       "B02512 2014-09-30         183        1094.825137      2014-04-30   \n",
       "B02598 2014-09-30         183        7538.677596      2014-04-30   \n",
       "B02617 2014-09-30         183        7748.540984      2014-09-05   \n",
       "B02682 2014-09-30         183        6551.371585      2014-04-30   \n",
       "B02764 2014-09-30         183        1393.065574      2014-09-27   \n",
       "\n",
       "       Least Active Day  \n",
       "Base                     \n",
       "B02512       2014-07-05  \n",
       "B02598       2014-07-05  \n",
       "B02617       2014-04-20  \n",
       "B02682       2014-07-05  \n",
       "B02764       2014-07-05  "
      ]
     },
     "execution_count": 20,
     "metadata": {},
     "output_type": "execute_result"
    }
   ],
   "source": [
    "uber_summary = pd.DataFrame({\n",
    "    \"Base\": bases,\n",
    "    \"Total Trips\": num_trips_per_base,\n",
    "    \"Maximum Trips\": max_trips_per_base,\n",
    "    \"Minimum Trips\": min_trips_per_base,\n",
    "    \"Start Date\": start_date,\n",
    "    \"End Date\": end_date,\n",
    "    \"Total Days\": total_days,\n",
    "    \"Average Trips/Day\": avg_trips_per_day,\n",
    "    \"Most Active Day\": most_active_dates,\n",
    "    \"Least Active Day\": least_active_dates   \n",
    "})\n",
    "\n",
    "#uber_summary = uber_summary.set_index(\"Base\")\n",
    "\n",
    "uber_summary"
   ]
  },
  {
   "cell_type": "markdown",
   "id": "85bbec26",
   "metadata": {},
   "source": [
    "# Visualtizations"
   ]
  },
  {
   "cell_type": "code",
   "execution_count": null,
   "id": "556ed495",
   "metadata": {},
   "outputs": [],
   "source": []
  },
  {
   "cell_type": "markdown",
   "id": "73bbe59d",
   "metadata": {},
   "source": [
    "# Output result"
   ]
  },
  {
   "cell_type": "code",
   "execution_count": 32,
   "id": "b5cd86d9",
   "metadata": {},
   "outputs": [],
   "source": [
    "#dataframe into csv \n",
    "uber_data.to_csv('Data/uber_data_aprsep_2014.csv', index=False)\n",
    "\n",
    "rides_per_day_df.to_csv('Data/rides_per_day_aprsep_2014.csv', index=False)\n",
    "\n",
    "uber_summary.to_csv('Data/uber_summary_aprsep_2014.csv', index=False)"
   ]
  },
  {
   "cell_type": "code",
   "execution_count": null,
   "id": "2139f0bd",
   "metadata": {},
   "outputs": [],
   "source": []
  }
 ],
 "metadata": {
  "kernelspec": {
   "display_name": "dev",
   "language": "python",
   "name": "dev"
  },
  "language_info": {
   "codemirror_mode": {
    "name": "ipython",
    "version": 3
   },
   "file_extension": ".py",
   "mimetype": "text/x-python",
   "name": "python",
   "nbconvert_exporter": "python",
   "pygments_lexer": "ipython3",
   "version": "3.10.12"
  }
 },
 "nbformat": 4,
 "nbformat_minor": 5
}
