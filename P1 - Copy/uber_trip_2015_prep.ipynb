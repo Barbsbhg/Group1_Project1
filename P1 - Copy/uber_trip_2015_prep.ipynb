{
 "cells": [
  {
   "cell_type": "markdown",
   "id": "0317083d",
   "metadata": {},
   "source": [
    "# Data Preparation: UberDrivers Jan - June 2015\n"
   ]
  },
  {
   "cell_type": "code",
   "execution_count": 36,
   "id": "3fbd5ed8",
   "metadata": {},
   "outputs": [],
   "source": [
    "# Dependencies and Setup\n",
    "import pandas as pd\n",
    "from pathlib import Path\n",
    "import hvplot.pandas\n",
    "import warnings\n",
    "warnings.filterwarnings(\"ignore\")"
   ]
  },
  {
   "cell_type": "code",
   "execution_count": 37,
   "id": "b80f55b2",
   "metadata": {},
   "outputs": [
    {
     "data": {
      "text/html": [
       "<div>\n",
       "<style scoped>\n",
       "    .dataframe tbody tr th:only-of-type {\n",
       "        vertical-align: middle;\n",
       "    }\n",
       "\n",
       "    .dataframe tbody tr th {\n",
       "        vertical-align: top;\n",
       "    }\n",
       "\n",
       "    .dataframe thead th {\n",
       "        text-align: right;\n",
       "    }\n",
       "</style>\n",
       "<table border=\"1\" class=\"dataframe\">\n",
       "  <thead>\n",
       "    <tr style=\"text-align: right;\">\n",
       "      <th></th>\n",
       "      <th>Dispatching_base_num</th>\n",
       "      <th>Pickup_date</th>\n",
       "      <th>Affiliated_base_num</th>\n",
       "      <th>locationID</th>\n",
       "    </tr>\n",
       "  </thead>\n",
       "  <tbody>\n",
       "    <tr>\n",
       "      <th>0</th>\n",
       "      <td>B02617</td>\n",
       "      <td>2015-05-17 09:47:00</td>\n",
       "      <td>B02617</td>\n",
       "      <td>141</td>\n",
       "    </tr>\n",
       "    <tr>\n",
       "      <th>1</th>\n",
       "      <td>B02617</td>\n",
       "      <td>2015-05-17 09:47:00</td>\n",
       "      <td>B02617</td>\n",
       "      <td>65</td>\n",
       "    </tr>\n",
       "    <tr>\n",
       "      <th>2</th>\n",
       "      <td>B02617</td>\n",
       "      <td>2015-05-17 09:47:00</td>\n",
       "      <td>B02617</td>\n",
       "      <td>100</td>\n",
       "    </tr>\n",
       "    <tr>\n",
       "      <th>3</th>\n",
       "      <td>B02617</td>\n",
       "      <td>2015-05-17 09:47:00</td>\n",
       "      <td>B02774</td>\n",
       "      <td>80</td>\n",
       "    </tr>\n",
       "    <tr>\n",
       "      <th>4</th>\n",
       "      <td>B02617</td>\n",
       "      <td>2015-05-17 09:47:00</td>\n",
       "      <td>B02617</td>\n",
       "      <td>90</td>\n",
       "    </tr>\n",
       "  </tbody>\n",
       "</table>\n",
       "</div>"
      ],
      "text/plain": [
       "  Dispatching_base_num          Pickup_date Affiliated_base_num  locationID\n",
       "0               B02617  2015-05-17 09:47:00              B02617         141\n",
       "1               B02617  2015-05-17 09:47:00              B02617          65\n",
       "2               B02617  2015-05-17 09:47:00              B02617         100\n",
       "3               B02617  2015-05-17 09:47:00              B02774          80\n",
       "4               B02617  2015-05-17 09:47:00              B02617          90"
      ]
     },
     "execution_count": 37,
     "metadata": {},
     "output_type": "execute_result"
    }
   ],
   "source": [
    "# Files to Load\n",
    "\n",
    "uber_trip_2015 = \"uber_resources/uber_trip_2015/uber-raw-data-janjune-15.csv\"\n",
    "\n",
    "raw_data = pd.read_csv(uber_trip_2015)\n",
    "\n",
    "raw_data.head()"
   ]
  },
  {
   "cell_type": "markdown",
   "id": "9747672a",
   "metadata": {},
   "source": [
    "# Data Cleaning"
   ]
  },
  {
   "cell_type": "code",
   "execution_count": 38,
   "id": "82a289a9",
   "metadata": {},
   "outputs": [
    {
     "data": {
      "text/html": [
       "<div>\n",
       "<style scoped>\n",
       "    .dataframe tbody tr th:only-of-type {\n",
       "        vertical-align: middle;\n",
       "    }\n",
       "\n",
       "    .dataframe tbody tr th {\n",
       "        vertical-align: top;\n",
       "    }\n",
       "\n",
       "    .dataframe thead th {\n",
       "        text-align: right;\n",
       "    }\n",
       "</style>\n",
       "<table border=\"1\" class=\"dataframe\">\n",
       "  <thead>\n",
       "    <tr style=\"text-align: right;\">\n",
       "      <th></th>\n",
       "      <th>Dispatching_base_num</th>\n",
       "      <th>Date</th>\n",
       "      <th>Time</th>\n",
       "    </tr>\n",
       "  </thead>\n",
       "  <tbody>\n",
       "    <tr>\n",
       "      <th>0</th>\n",
       "      <td>B02617</td>\n",
       "      <td>2015-05-17</td>\n",
       "      <td>09:47:00</td>\n",
       "    </tr>\n",
       "    <tr>\n",
       "      <th>1</th>\n",
       "      <td>B02617</td>\n",
       "      <td>2015-05-17</td>\n",
       "      <td>09:47:00</td>\n",
       "    </tr>\n",
       "    <tr>\n",
       "      <th>2</th>\n",
       "      <td>B02617</td>\n",
       "      <td>2015-05-17</td>\n",
       "      <td>09:47:00</td>\n",
       "    </tr>\n",
       "    <tr>\n",
       "      <th>3</th>\n",
       "      <td>B02617</td>\n",
       "      <td>2015-05-17</td>\n",
       "      <td>09:47:00</td>\n",
       "    </tr>\n",
       "    <tr>\n",
       "      <th>4</th>\n",
       "      <td>B02617</td>\n",
       "      <td>2015-05-17</td>\n",
       "      <td>09:47:00</td>\n",
       "    </tr>\n",
       "  </tbody>\n",
       "</table>\n",
       "</div>"
      ],
      "text/plain": [
       "  Dispatching_base_num        Date      Time\n",
       "0               B02617  2015-05-17  09:47:00\n",
       "1               B02617  2015-05-17  09:47:00\n",
       "2               B02617  2015-05-17  09:47:00\n",
       "3               B02617  2015-05-17  09:47:00\n",
       "4               B02617  2015-05-17  09:47:00"
      ]
     },
     "execution_count": 38,
     "metadata": {},
     "output_type": "execute_result"
    }
   ],
   "source": [
    "# Data Cleaning\n",
    "# Splitting Pickup_date into their own columns Date, Time\n",
    "raw_data[['Date', 'Time']] = raw_data['Pickup_date'].str.split(expand=True)\n",
    "\n",
    "raw_data.drop(columns=['Pickup_date'], inplace=True)\n",
    "\n",
    "raw_data[\"Time\"]\n",
    "del raw_data[\"Affiliated_base_num\"]\n",
    "del raw_data[\"locationID\"]\n",
    "\n",
    "raw_data.head()"
   ]
  },
  {
   "cell_type": "code",
   "execution_count": 39,
   "id": "d1c47ead",
   "metadata": {},
   "outputs": [],
   "source": [
    "# Handling data value types:\n",
    "#print(raw_data.info())\n",
    "\n",
    "#print(\"After data converstion\")\n",
    "\n",
    "data = {'Date': raw_data[\"Date\"]}\n",
    "datetime = pd.DataFrame(data)\n",
    "\n",
    "# Convert date columns to datetime dtype\n",
    "raw_data['Date'] = pd.to_datetime(datetime['Date'])\n",
    "\n",
    "#print(raw_data.info())"
   ]
  },
  {
   "cell_type": "code",
   "execution_count": 40,
   "id": "183a8d56",
   "metadata": {},
   "outputs": [
    {
     "name": "stdout",
     "output_type": "stream",
     "text": [
      "Dispatching_base_num    14270479\n",
      "Date                    14270479\n",
      "Time                    14270479\n",
      "dtype: int64\n",
      "After removing duplicates:\n",
      "Dispatching_base_num    4525316\n",
      "Date                    4525316\n",
      "Time                    4525316\n",
      "dtype: int64\n"
     ]
    }
   ],
   "source": [
    "# Finding Duplicates \n",
    "print(raw_data.count())\n",
    "\n",
    "print(\"After removing duplicates:\")\n",
    "non_dupe_data = raw_data.drop_duplicates()\n",
    "print(non_dupe_data.count())"
   ]
  },
  {
   "cell_type": "code",
   "execution_count": 41,
   "id": "f1a6205c",
   "metadata": {},
   "outputs": [
    {
     "name": "stdout",
     "output_type": "stream",
     "text": [
      "Dispatching_base_num    4525316\n",
      "Date                    4525316\n",
      "Time                    4525316\n",
      "dtype: int64\n"
     ]
    }
   ],
   "source": [
    "# Handling Missing Values\n",
    "non_dupe_data = non_dupe_data.dropna()\n",
    "\n",
    "non_na_data = non_dupe_data.dropna(axis=1)\n",
    "\n",
    "print(non_na_data.count())"
   ]
  },
  {
   "cell_type": "code",
   "execution_count": 42,
   "id": "e561a012",
   "metadata": {},
   "outputs": [
    {
     "data": {
      "text/html": [
       "<div>\n",
       "<style scoped>\n",
       "    .dataframe tbody tr th:only-of-type {\n",
       "        vertical-align: middle;\n",
       "    }\n",
       "\n",
       "    .dataframe tbody tr th {\n",
       "        vertical-align: top;\n",
       "    }\n",
       "\n",
       "    .dataframe thead th {\n",
       "        text-align: right;\n",
       "    }\n",
       "</style>\n",
       "<table border=\"1\" class=\"dataframe\">\n",
       "  <thead>\n",
       "    <tr style=\"text-align: right;\">\n",
       "      <th></th>\n",
       "      <th>Base</th>\n",
       "      <th>Date</th>\n",
       "      <th>Time</th>\n",
       "    </tr>\n",
       "  </thead>\n",
       "  <tbody>\n",
       "    <tr>\n",
       "      <th>0</th>\n",
       "      <td>B02617</td>\n",
       "      <td>2015-05-17</td>\n",
       "      <td>09:47:00</td>\n",
       "    </tr>\n",
       "    <tr>\n",
       "      <th>10</th>\n",
       "      <td>B02617</td>\n",
       "      <td>2015-05-17</td>\n",
       "      <td>09:48:00</td>\n",
       "    </tr>\n",
       "    <tr>\n",
       "      <th>12</th>\n",
       "      <td>B02617</td>\n",
       "      <td>2015-05-17</td>\n",
       "      <td>09:49:00</td>\n",
       "    </tr>\n",
       "    <tr>\n",
       "      <th>21</th>\n",
       "      <td>B02617</td>\n",
       "      <td>2015-05-17</td>\n",
       "      <td>09:50:00</td>\n",
       "    </tr>\n",
       "    <tr>\n",
       "      <th>29</th>\n",
       "      <td>B02617</td>\n",
       "      <td>2015-05-17</td>\n",
       "      <td>09:51:00</td>\n",
       "    </tr>\n",
       "  </tbody>\n",
       "</table>\n",
       "</div>"
      ],
      "text/plain": [
       "      Base       Date      Time\n",
       "0   B02617 2015-05-17  09:47:00\n",
       "10  B02617 2015-05-17  09:48:00\n",
       "12  B02617 2015-05-17  09:49:00\n",
       "21  B02617 2015-05-17  09:50:00\n",
       "29  B02617 2015-05-17  09:51:00"
      ]
     },
     "execution_count": 42,
     "metadata": {},
     "output_type": "execute_result"
    }
   ],
   "source": [
    "# Renaming to finalized dataframe\n",
    "uber_data = non_na_data\n",
    "\n",
    "uber_data.rename(columns={'Dispatching_base_num': 'Base'}, inplace=True)\n",
    "\n",
    "uber_data.head()"
   ]
  },
  {
   "cell_type": "markdown",
   "id": "65392e2e",
   "metadata": {},
   "source": [
    "# Trips Data"
   ]
  },
  {
   "cell_type": "code",
   "execution_count": 23,
   "id": "7bc0c770",
   "metadata": {},
   "outputs": [
    {
     "data": {
      "text/plain": [
       "B02764    5013875\n",
       "B02682    3057302\n",
       "B02617    1943107\n",
       "B02598    1441905\n",
       "B02765    1097063\n",
       "B02512     248444\n",
       "B02835      26421\n",
       "B02836       1990\n",
       "Name: Base, dtype: int64"
      ]
     },
     "execution_count": 23,
     "metadata": {},
     "output_type": "execute_result"
    }
   ],
   "source": [
    "# All data per base\n",
    "per_base_counts = uber_data[\"Base\"].value_counts()\n",
    "per_base_counts"
   ]
  },
  {
   "cell_type": "code",
   "execution_count": 24,
   "id": "f02a405b",
   "metadata": {},
   "outputs": [
    {
     "data": {
      "text/html": [
       "<div>\n",
       "<style scoped>\n",
       "    .dataframe tbody tr th:only-of-type {\n",
       "        vertical-align: middle;\n",
       "    }\n",
       "\n",
       "    .dataframe tbody tr th {\n",
       "        vertical-align: top;\n",
       "    }\n",
       "\n",
       "    .dataframe thead th {\n",
       "        text-align: right;\n",
       "    }\n",
       "</style>\n",
       "<table border=\"1\" class=\"dataframe\">\n",
       "  <thead>\n",
       "    <tr style=\"text-align: right;\">\n",
       "      <th></th>\n",
       "      <th>Base</th>\n",
       "      <th>Date</th>\n",
       "      <th>Number of trips</th>\n",
       "    </tr>\n",
       "  </thead>\n",
       "  <tbody>\n",
       "    <tr>\n",
       "      <th>0</th>\n",
       "      <td>B02512</td>\n",
       "      <td>2015-02-13</td>\n",
       "      <td>2500</td>\n",
       "    </tr>\n",
       "    <tr>\n",
       "      <th>1</th>\n",
       "      <td>B02512</td>\n",
       "      <td>2015-02-20</td>\n",
       "      <td>2478</td>\n",
       "    </tr>\n",
       "    <tr>\n",
       "      <th>2</th>\n",
       "      <td>B02512</td>\n",
       "      <td>2015-02-19</td>\n",
       "      <td>2171</td>\n",
       "    </tr>\n",
       "    <tr>\n",
       "      <th>3</th>\n",
       "      <td>B02512</td>\n",
       "      <td>2015-02-21</td>\n",
       "      <td>2144</td>\n",
       "    </tr>\n",
       "    <tr>\n",
       "      <th>4</th>\n",
       "      <td>B02512</td>\n",
       "      <td>2015-02-12</td>\n",
       "      <td>2138</td>\n",
       "    </tr>\n",
       "  </tbody>\n",
       "</table>\n",
       "</div>"
      ],
      "text/plain": [
       "     Base       Date  Number of trips\n",
       "0  B02512 2015-02-13             2500\n",
       "1  B02512 2015-02-20             2478\n",
       "2  B02512 2015-02-19             2171\n",
       "3  B02512 2015-02-21             2144\n",
       "4  B02512 2015-02-12             2138"
      ]
     },
     "execution_count": 24,
     "metadata": {},
     "output_type": "execute_result"
    }
   ],
   "source": [
    "# Finding the Number of trips per day by a base\n",
    "rides_per_day = uber_data.groupby(\"Base\")[\"Date\"].value_counts()\n",
    "\n",
    "rides_per_day_df = rides_per_day.reset_index(name=\"Number of trips\")\n",
    "\n",
    "rides_per_day_df.head()"
   ]
  },
  {
   "cell_type": "markdown",
   "id": "28f9bf68",
   "metadata": {},
   "source": [
    "# Uber Summary"
   ]
  },
  {
   "cell_type": "code",
   "execution_count": 25,
   "id": "72cecdd2",
   "metadata": {},
   "outputs": [
    {
     "data": {
      "text/plain": [
       "array(['B02617', 'B02598', 'B02682', 'B02764', 'B02512', 'B02765',\n",
       "       'B02835', 'B02836'], dtype=object)"
      ]
     },
     "execution_count": 25,
     "metadata": {},
     "output_type": "execute_result"
    }
   ],
   "source": [
    "# All base names\n",
    "bases = uber_data[\"Base\"].unique()\n",
    "bases"
   ]
  },
  {
   "cell_type": "code",
   "execution_count": 26,
   "id": "b52e84dc",
   "metadata": {},
   "outputs": [
    {
     "data": {
      "text/plain": [
       "8"
      ]
     },
     "execution_count": 26,
     "metadata": {},
     "output_type": "execute_result"
    }
   ],
   "source": [
    "# Total bases\n",
    "base_count = uber_data[\"Base\"].nunique()\n",
    "base_count"
   ]
  },
  {
   "cell_type": "code",
   "execution_count": 27,
   "id": "cad119f0",
   "metadata": {},
   "outputs": [
    {
     "data": {
      "text/plain": [
       "Base\n",
       "B02512     248444\n",
       "B02598    1441905\n",
       "B02617    1943107\n",
       "B02682    3057302\n",
       "B02764    5013875\n",
       "B02765    1097063\n",
       "B02835      26421\n",
       "B02836       1990\n",
       "Name: Number of trips, dtype: int64"
      ]
     },
     "execution_count": 27,
     "metadata": {},
     "output_type": "execute_result"
    }
   ],
   "source": [
    "# total trips \n",
    "num_trips_per_base = rides_per_day_df.groupby(\"Base\")[\"Number of trips\"].sum()\n",
    "num_trips_per_base"
   ]
  },
  {
   "cell_type": "code",
   "execution_count": 28,
   "id": "2e45b160",
   "metadata": {},
   "outputs": [
    {
     "data": {
      "text/plain": [
       "Base\n",
       "B02512     2500\n",
       "B02598    12559\n",
       "B02617    17088\n",
       "B02682    37329\n",
       "B02764    46134\n",
       "B02765    11235\n",
       "B02835     2470\n",
       "B02836      103\n",
       "Name: Number of trips, dtype: int64"
      ]
     },
     "execution_count": 28,
     "metadata": {},
     "output_type": "execute_result"
    }
   ],
   "source": [
    "# maximum trips\n",
    "max_trips_per_base = rides_per_day_df.groupby(\"Base\")[\"Number of trips\"].max()\n",
    "max_trips_per_base"
   ]
  },
  {
   "cell_type": "code",
   "execution_count": 29,
   "id": "a9418f20",
   "metadata": {},
   "outputs": [
    {
     "data": {
      "text/plain": [
       "Base\n",
       "B02512      377\n",
       "B02598     2860\n",
       "B02617     4322\n",
       "B02682     4454\n",
       "B02764    12271\n",
       "B02765      937\n",
       "B02835      300\n",
       "B02836       40\n",
       "Name: Number of trips, dtype: int64"
      ]
     },
     "execution_count": 29,
     "metadata": {},
     "output_type": "execute_result"
    }
   ],
   "source": [
    "# minimum trips\n",
    "min_trips_per_base = rides_per_day_df.groupby(\"Base\")[\"Number of trips\"].min()\n",
    "min_trips_per_base"
   ]
  },
  {
   "cell_type": "code",
   "execution_count": 30,
   "id": "3665572e",
   "metadata": {},
   "outputs": [],
   "source": [
    "# Date Range\n",
    "start_date = rides_per_day_df[\"Date\"].min()\n",
    "end_date = rides_per_day_df[\"Date\"].max()"
   ]
  },
  {
   "cell_type": "code",
   "execution_count": 31,
   "id": "56611bde",
   "metadata": {},
   "outputs": [],
   "source": [
    "# Total Days\n",
    "total_days = len(rides_per_day_df[\"Date\"].unique())"
   ]
  },
  {
   "cell_type": "code",
   "execution_count": 32,
   "id": "3939d2bc",
   "metadata": {},
   "outputs": [
    {
     "data": {
      "text/plain": [
       "Base\n",
       "B02512     1372.618785\n",
       "B02598     7966.325967\n",
       "B02617    10735.397790\n",
       "B02682    16891.171271\n",
       "B02764    27700.966851\n",
       "B02765     6061.121547\n",
       "B02835      145.972376\n",
       "B02836       10.994475\n",
       "Name: Number of trips, dtype: float64"
      ]
     },
     "execution_count": 32,
     "metadata": {},
     "output_type": "execute_result"
    }
   ],
   "source": [
    "# Average Trips per Day\n",
    "avg_trips_per_day = num_trips_per_base / total_days\n",
    "avg_trips_per_day"
   ]
  },
  {
   "cell_type": "code",
   "execution_count": 33,
   "id": "8afc2bd4",
   "metadata": {},
   "outputs": [
    {
     "name": "stdout",
     "output_type": "stream",
     "text": [
      "Most Active Days:\n",
      "Base\n",
      "B02512   2015-02-13\n",
      "B02598   2015-02-13\n",
      "B02617   2015-02-14\n",
      "B02682   2015-06-27\n",
      "B02764   2015-02-14\n",
      "B02765   2015-06-27\n",
      "B02835   2015-06-27\n",
      "B02836   2015-06-27\n",
      "Name: Date, dtype: datetime64[ns]\n",
      "\n",
      "Least Active Days:\n",
      "Base\n",
      "B02512   2015-04-05\n",
      "B02598   2015-01-27\n",
      "B02617   2015-01-27\n",
      "B02682   2015-01-27\n",
      "B02764   2015-01-27\n",
      "B02765   2015-01-27\n",
      "B02835   2015-06-08\n",
      "B02836   2015-06-03\n",
      "Name: Date, dtype: datetime64[ns]\n"
     ]
    }
   ],
   "source": [
    "# Most Active Day\n",
    "most_active_dates_idx = rides_per_day_df.groupby('Base')['Number of trips'].idxmax()\n",
    "most_active_dates = rides_per_day_df.loc[most_active_dates_idx, 'Date']\n",
    "\n",
    "# Set the index to \"Base\" and rename the index\n",
    "most_active_dates.index = most_active_dates_idx.index\n",
    "most_active_dates.index.name = 'Base'\n",
    "\n",
    "# Least Active Day\n",
    "least_active_dates_idx = rides_per_day_df.groupby('Base')['Number of trips'].idxmin()\n",
    "least_active_dates = rides_per_day_df.loc[least_active_dates_idx, 'Date']\n",
    "\n",
    "# Set the index to \"Base\"\n",
    "least_active_dates.index = least_active_dates_idx.index\n",
    "least_active_dates.index.name = 'Base'\n",
    "\n",
    "\n",
    "print(\"Most Active Days:\"),\n",
    "print(most_active_dates)\n",
    "\n",
    "print(\"\\nLeast Active Days:\")\n",
    "print(least_active_dates)"
   ]
  },
  {
   "cell_type": "code",
   "execution_count": 34,
   "id": "256fb764",
   "metadata": {},
   "outputs": [
    {
     "data": {
      "text/html": [
       "<div>\n",
       "<style scoped>\n",
       "    .dataframe tbody tr th:only-of-type {\n",
       "        vertical-align: middle;\n",
       "    }\n",
       "\n",
       "    .dataframe tbody tr th {\n",
       "        vertical-align: top;\n",
       "    }\n",
       "\n",
       "    .dataframe thead th {\n",
       "        text-align: right;\n",
       "    }\n",
       "</style>\n",
       "<table border=\"1\" class=\"dataframe\">\n",
       "  <thead>\n",
       "    <tr style=\"text-align: right;\">\n",
       "      <th></th>\n",
       "      <th>Base</th>\n",
       "      <th>Total Trips</th>\n",
       "      <th>Maximum Trips</th>\n",
       "      <th>Minimum Trips</th>\n",
       "      <th>Start Date</th>\n",
       "      <th>End Date</th>\n",
       "      <th>Total Days</th>\n",
       "      <th>Average Trips/Day</th>\n",
       "      <th>Most Active Day</th>\n",
       "      <th>Least Active Day</th>\n",
       "    </tr>\n",
       "    <tr>\n",
       "      <th>Base</th>\n",
       "      <th></th>\n",
       "      <th></th>\n",
       "      <th></th>\n",
       "      <th></th>\n",
       "      <th></th>\n",
       "      <th></th>\n",
       "      <th></th>\n",
       "      <th></th>\n",
       "      <th></th>\n",
       "      <th></th>\n",
       "    </tr>\n",
       "  </thead>\n",
       "  <tbody>\n",
       "    <tr>\n",
       "      <th>B02512</th>\n",
       "      <td>B02617</td>\n",
       "      <td>248444</td>\n",
       "      <td>2500</td>\n",
       "      <td>377</td>\n",
       "      <td>2015-01-01</td>\n",
       "      <td>2015-06-30</td>\n",
       "      <td>181</td>\n",
       "      <td>1372.618785</td>\n",
       "      <td>2015-02-13</td>\n",
       "      <td>2015-04-05</td>\n",
       "    </tr>\n",
       "    <tr>\n",
       "      <th>B02598</th>\n",
       "      <td>B02598</td>\n",
       "      <td>1441905</td>\n",
       "      <td>12559</td>\n",
       "      <td>2860</td>\n",
       "      <td>2015-01-01</td>\n",
       "      <td>2015-06-30</td>\n",
       "      <td>181</td>\n",
       "      <td>7966.325967</td>\n",
       "      <td>2015-02-13</td>\n",
       "      <td>2015-01-27</td>\n",
       "    </tr>\n",
       "    <tr>\n",
       "      <th>B02617</th>\n",
       "      <td>B02682</td>\n",
       "      <td>1943107</td>\n",
       "      <td>17088</td>\n",
       "      <td>4322</td>\n",
       "      <td>2015-01-01</td>\n",
       "      <td>2015-06-30</td>\n",
       "      <td>181</td>\n",
       "      <td>10735.397790</td>\n",
       "      <td>2015-02-14</td>\n",
       "      <td>2015-01-27</td>\n",
       "    </tr>\n",
       "    <tr>\n",
       "      <th>B02682</th>\n",
       "      <td>B02764</td>\n",
       "      <td>3057302</td>\n",
       "      <td>37329</td>\n",
       "      <td>4454</td>\n",
       "      <td>2015-01-01</td>\n",
       "      <td>2015-06-30</td>\n",
       "      <td>181</td>\n",
       "      <td>16891.171271</td>\n",
       "      <td>2015-06-27</td>\n",
       "      <td>2015-01-27</td>\n",
       "    </tr>\n",
       "    <tr>\n",
       "      <th>B02764</th>\n",
       "      <td>B02512</td>\n",
       "      <td>5013875</td>\n",
       "      <td>46134</td>\n",
       "      <td>12271</td>\n",
       "      <td>2015-01-01</td>\n",
       "      <td>2015-06-30</td>\n",
       "      <td>181</td>\n",
       "      <td>27700.966851</td>\n",
       "      <td>2015-02-14</td>\n",
       "      <td>2015-01-27</td>\n",
       "    </tr>\n",
       "    <tr>\n",
       "      <th>B02765</th>\n",
       "      <td>B02765</td>\n",
       "      <td>1097063</td>\n",
       "      <td>11235</td>\n",
       "      <td>937</td>\n",
       "      <td>2015-01-01</td>\n",
       "      <td>2015-06-30</td>\n",
       "      <td>181</td>\n",
       "      <td>6061.121547</td>\n",
       "      <td>2015-06-27</td>\n",
       "      <td>2015-01-27</td>\n",
       "    </tr>\n",
       "    <tr>\n",
       "      <th>B02835</th>\n",
       "      <td>B02835</td>\n",
       "      <td>26421</td>\n",
       "      <td>2470</td>\n",
       "      <td>300</td>\n",
       "      <td>2015-01-01</td>\n",
       "      <td>2015-06-30</td>\n",
       "      <td>181</td>\n",
       "      <td>145.972376</td>\n",
       "      <td>2015-06-27</td>\n",
       "      <td>2015-06-08</td>\n",
       "    </tr>\n",
       "    <tr>\n",
       "      <th>B02836</th>\n",
       "      <td>B02836</td>\n",
       "      <td>1990</td>\n",
       "      <td>103</td>\n",
       "      <td>40</td>\n",
       "      <td>2015-01-01</td>\n",
       "      <td>2015-06-30</td>\n",
       "      <td>181</td>\n",
       "      <td>10.994475</td>\n",
       "      <td>2015-06-27</td>\n",
       "      <td>2015-06-03</td>\n",
       "    </tr>\n",
       "  </tbody>\n",
       "</table>\n",
       "</div>"
      ],
      "text/plain": [
       "          Base  Total Trips  Maximum Trips  Minimum Trips Start Date  \\\n",
       "Base                                                                   \n",
       "B02512  B02617       248444           2500            377 2015-01-01   \n",
       "B02598  B02598      1441905          12559           2860 2015-01-01   \n",
       "B02617  B02682      1943107          17088           4322 2015-01-01   \n",
       "B02682  B02764      3057302          37329           4454 2015-01-01   \n",
       "B02764  B02512      5013875          46134          12271 2015-01-01   \n",
       "B02765  B02765      1097063          11235            937 2015-01-01   \n",
       "B02835  B02835        26421           2470            300 2015-01-01   \n",
       "B02836  B02836         1990            103             40 2015-01-01   \n",
       "\n",
       "         End Date  Total Days  Average Trips/Day Most Active Day  \\\n",
       "Base                                                               \n",
       "B02512 2015-06-30         181        1372.618785      2015-02-13   \n",
       "B02598 2015-06-30         181        7966.325967      2015-02-13   \n",
       "B02617 2015-06-30         181       10735.397790      2015-02-14   \n",
       "B02682 2015-06-30         181       16891.171271      2015-06-27   \n",
       "B02764 2015-06-30         181       27700.966851      2015-02-14   \n",
       "B02765 2015-06-30         181        6061.121547      2015-06-27   \n",
       "B02835 2015-06-30         181         145.972376      2015-06-27   \n",
       "B02836 2015-06-30         181          10.994475      2015-06-27   \n",
       "\n",
       "       Least Active Day  \n",
       "Base                     \n",
       "B02512       2015-04-05  \n",
       "B02598       2015-01-27  \n",
       "B02617       2015-01-27  \n",
       "B02682       2015-01-27  \n",
       "B02764       2015-01-27  \n",
       "B02765       2015-01-27  \n",
       "B02835       2015-06-08  \n",
       "B02836       2015-06-03  "
      ]
     },
     "execution_count": 34,
     "metadata": {},
     "output_type": "execute_result"
    }
   ],
   "source": [
    "uber_summary = pd.DataFrame({\n",
    "    \"Base\": bases,\n",
    "    \"Total Trips\": num_trips_per_base,\n",
    "    \"Maximum Trips\": max_trips_per_base,\n",
    "    \"Minimum Trips\": min_trips_per_base,\n",
    "    \"Start Date\": start_date,\n",
    "    \"End Date\": end_date,\n",
    "    \"Total Days\": total_days,\n",
    "    \"Average Trips/Day\": avg_trips_per_day,\n",
    "    \"Most Active Day\": most_active_dates,\n",
    "    \"Least Active Day\": least_active_dates   \n",
    "})\n",
    "\n",
    "#uber_summary = uber_summary.set_index(\"Base\")\n",
    "\n",
    "uber_summary"
   ]
  },
  {
   "cell_type": "markdown",
   "id": "c9767b38",
   "metadata": {},
   "source": [
    "# Output Results"
   ]
  },
  {
   "cell_type": "code",
   "execution_count": 43,
   "id": "dedb3b17",
   "metadata": {},
   "outputs": [],
   "source": [
    "#dataframe into csv \n",
    "uber_data.to_csv('Data/uber_data_janjune_2015.csv', index=False)\n",
    "\n",
    "#dataframe into csv \n",
    "rides_per_day_df.to_csv('Data/rides_per_day_janjune_2015.csv', index=False)\n",
    "\n",
    "uber_summary.to_csv('Data/uber_summary_janjune_2015.csv', index=False)"
   ]
  },
  {
   "cell_type": "code",
   "execution_count": null,
   "id": "96be5658",
   "metadata": {},
   "outputs": [],
   "source": []
  },
  {
   "cell_type": "code",
   "execution_count": null,
   "id": "2a1e6f76",
   "metadata": {},
   "outputs": [],
   "source": []
  },
  {
   "cell_type": "code",
   "execution_count": null,
   "id": "96c4ee82",
   "metadata": {},
   "outputs": [],
   "source": []
  }
 ],
 "metadata": {
  "kernelspec": {
   "display_name": "dev",
   "language": "python",
   "name": "dev"
  },
  "language_info": {
   "codemirror_mode": {
    "name": "ipython",
    "version": 3
   },
   "file_extension": ".py",
   "mimetype": "text/x-python",
   "name": "python",
   "nbconvert_exporter": "python",
   "pygments_lexer": "ipython3",
   "version": "3.10.12"
  }
 },
 "nbformat": 4,
 "nbformat_minor": 5
}
